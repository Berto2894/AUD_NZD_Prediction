{
 "cells": [
  {
   "cell_type": "code",
   "execution_count": 28,
   "id": "2a4cb7f3",
   "metadata": {},
   "outputs": [],
   "source": [
    "import pandas as pd\n",
    "import sklearn\n",
    "from sklearn.ensemble import RandomForestClassifier\n",
    "from sklearn.model_selection import train_test_split\n",
    "from sklearn.metrics import precision_score, recall_score, f1_score, accuracy_score"
   ]
  },
  {
   "cell_type": "code",
   "execution_count": 29,
   "id": "7263a71b",
   "metadata": {},
   "outputs": [
    {
     "name": "stdout",
     "output_type": "stream",
     "text": [
      "[*********************100%***********************]  1 of 1 completed\n"
     ]
    },
    {
     "data": {
      "text/html": [
       "<div>\n",
       "<style scoped>\n",
       "    .dataframe tbody tr th:only-of-type {\n",
       "        vertical-align: middle;\n",
       "    }\n",
       "\n",
       "    .dataframe tbody tr th {\n",
       "        vertical-align: top;\n",
       "    }\n",
       "\n",
       "    .dataframe thead th {\n",
       "        text-align: right;\n",
       "    }\n",
       "</style>\n",
       "<table border=\"1\" class=\"dataframe\">\n",
       "  <thead>\n",
       "    <tr style=\"text-align: right;\">\n",
       "      <th></th>\n",
       "      <th>Open</th>\n",
       "      <th>High</th>\n",
       "      <th>Low</th>\n",
       "      <th>Close</th>\n",
       "      <th>Adj Close</th>\n",
       "      <th>Volume</th>\n",
       "    </tr>\n",
       "    <tr>\n",
       "      <th>Date</th>\n",
       "      <th></th>\n",
       "      <th></th>\n",
       "      <th></th>\n",
       "      <th></th>\n",
       "      <th></th>\n",
       "      <th></th>\n",
       "    </tr>\n",
       "  </thead>\n",
       "  <tbody>\n",
       "    <tr>\n",
       "      <th>2010-01-01</th>\n",
       "      <td>1.241700</td>\n",
       "      <td>1.241800</td>\n",
       "      <td>1.2349</td>\n",
       "      <td>1.236200</td>\n",
       "      <td>1.236200</td>\n",
       "      <td>0</td>\n",
       "    </tr>\n",
       "    <tr>\n",
       "      <th>2010-01-04</th>\n",
       "      <td>1.238900</td>\n",
       "      <td>1.245900</td>\n",
       "      <td>1.2389</td>\n",
       "      <td>1.242000</td>\n",
       "      <td>1.242000</td>\n",
       "      <td>0</td>\n",
       "    </tr>\n",
       "    <tr>\n",
       "      <th>2010-01-05</th>\n",
       "      <td>1.241800</td>\n",
       "      <td>1.245700</td>\n",
       "      <td>1.2395</td>\n",
       "      <td>1.241800</td>\n",
       "      <td>1.241800</td>\n",
       "      <td>0</td>\n",
       "    </tr>\n",
       "    <tr>\n",
       "      <th>2010-01-06</th>\n",
       "      <td>1.241700</td>\n",
       "      <td>1.250000</td>\n",
       "      <td>1.2417</td>\n",
       "      <td>1.246100</td>\n",
       "      <td>1.246100</td>\n",
       "      <td>0</td>\n",
       "    </tr>\n",
       "    <tr>\n",
       "      <th>2010-01-07</th>\n",
       "      <td>1.245400</td>\n",
       "      <td>1.253200</td>\n",
       "      <td>1.2449</td>\n",
       "      <td>1.252200</td>\n",
       "      <td>1.252200</td>\n",
       "      <td>0</td>\n",
       "    </tr>\n",
       "    <tr>\n",
       "      <th>...</th>\n",
       "      <td>...</td>\n",
       "      <td>...</td>\n",
       "      <td>...</td>\n",
       "      <td>...</td>\n",
       "      <td>...</td>\n",
       "      <td>...</td>\n",
       "    </tr>\n",
       "    <tr>\n",
       "      <th>2023-06-13</th>\n",
       "      <td>1.101790</td>\n",
       "      <td>1.104660</td>\n",
       "      <td>1.1009</td>\n",
       "      <td>1.101790</td>\n",
       "      <td>1.101790</td>\n",
       "      <td>0</td>\n",
       "    </tr>\n",
       "    <tr>\n",
       "      <th>2023-06-14</th>\n",
       "      <td>1.098920</td>\n",
       "      <td>1.101410</td>\n",
       "      <td>1.0948</td>\n",
       "      <td>1.098920</td>\n",
       "      <td>1.098920</td>\n",
       "      <td>0</td>\n",
       "    </tr>\n",
       "    <tr>\n",
       "      <th>2023-06-15</th>\n",
       "      <td>1.096770</td>\n",
       "      <td>1.103841</td>\n",
       "      <td>1.0950</td>\n",
       "      <td>1.096770</td>\n",
       "      <td>1.096770</td>\n",
       "      <td>0</td>\n",
       "    </tr>\n",
       "    <tr>\n",
       "      <th>2023-06-16</th>\n",
       "      <td>1.103336</td>\n",
       "      <td>1.104990</td>\n",
       "      <td>1.1013</td>\n",
       "      <td>1.103336</td>\n",
       "      <td>1.103336</td>\n",
       "      <td>0</td>\n",
       "    </tr>\n",
       "    <tr>\n",
       "      <th>2023-06-19</th>\n",
       "      <td>1.102600</td>\n",
       "      <td>1.105010</td>\n",
       "      <td>1.1003</td>\n",
       "      <td>1.102600</td>\n",
       "      <td>1.102600</td>\n",
       "      <td>0</td>\n",
       "    </tr>\n",
       "  </tbody>\n",
       "</table>\n",
       "<p>3510 rows × 6 columns</p>\n",
       "</div>"
      ],
      "text/plain": [
       "                Open      High     Low     Close  Adj Close  Volume\n",
       "Date                                                               \n",
       "2010-01-01  1.241700  1.241800  1.2349  1.236200   1.236200       0\n",
       "2010-01-04  1.238900  1.245900  1.2389  1.242000   1.242000       0\n",
       "2010-01-05  1.241800  1.245700  1.2395  1.241800   1.241800       0\n",
       "2010-01-06  1.241700  1.250000  1.2417  1.246100   1.246100       0\n",
       "2010-01-07  1.245400  1.253200  1.2449  1.252200   1.252200       0\n",
       "...              ...       ...     ...       ...        ...     ...\n",
       "2023-06-13  1.101790  1.104660  1.1009  1.101790   1.101790       0\n",
       "2023-06-14  1.098920  1.101410  1.0948  1.098920   1.098920       0\n",
       "2023-06-15  1.096770  1.103841  1.0950  1.096770   1.096770       0\n",
       "2023-06-16  1.103336  1.104990  1.1013  1.103336   1.103336       0\n",
       "2023-06-19  1.102600  1.105010  1.1003  1.102600   1.102600       0\n",
       "\n",
       "[3510 rows x 6 columns]"
      ]
     },
     "execution_count": 29,
     "metadata": {},
     "output_type": "execute_result"
    }
   ],
   "source": [
    "import yfinance as yf\n",
    "\n",
    "symbol = \"AUDNZD=X\"\n",
    "start_date = \"2010-01-01\"\n",
    "end_date = \"2023-08-05\"\n",
    "data = yf.download(symbol, start=start_date, end=end_date)\n",
    "data"
   ]
  },
  {
   "cell_type": "code",
   "execution_count": 30,
   "id": "5bea2aa7",
   "metadata": {},
   "outputs": [
    {
     "data": {
      "text/plain": [
       "<Axes: xlabel='Date'>"
      ]
     },
     "execution_count": 30,
     "metadata": {},
     "output_type": "execute_result"
    },
    {
     "data": {
      "image/png": "[encoded data removed]",
      "text/plain": [
       "<Figure size 640x480 with 1 Axes>"
      ]
     },
     "metadata": {},
     "output_type": "display_data"
    }
   ],
   "source": [
    "data.plot.line(y=\"Close\", use_index=True)"
   ]
  },
  {
   "cell_type": "code",
   "execution_count": 31,
   "id": "23ae92b9",
   "metadata": {},
   "outputs": [
    {
     "data": {
      "text/html": [
       "<div>\n",
       "<style scoped>\n",
       "    .dataframe tbody tr th:only-of-type {\n",
       "        vertical-align: middle;\n",
       "    }\n",
       "\n",
       "    .dataframe tbody tr th {\n",
       "        vertical-align: top;\n",
       "    }\n",
       "\n",
       "    .dataframe thead th {\n",
       "        text-align: right;\n",
       "    }\n",
       "</style>\n",
       "<table border=\"1\" class=\"dataframe\">\n",
       "  <thead>\n",
       "    <tr style=\"text-align: right;\">\n",
       "      <th></th>\n",
       "      <th>Open</th>\n",
       "      <th>High</th>\n",
       "      <th>Low</th>\n",
       "      <th>Close</th>\n",
       "      <th>Adj Close</th>\n",
       "    </tr>\n",
       "    <tr>\n",
       "      <th>Date</th>\n",
       "      <th></th>\n",
       "      <th></th>\n",
       "      <th></th>\n",
       "      <th></th>\n",
       "      <th></th>\n",
       "    </tr>\n",
       "  </thead>\n",
       "  <tbody>\n",
       "    <tr>\n",
       "      <th>2010-01-01</th>\n",
       "      <td>1.241700</td>\n",
       "      <td>1.241800</td>\n",
       "      <td>1.2349</td>\n",
       "      <td>1.236200</td>\n",
       "      <td>1.236200</td>\n",
       "    </tr>\n",
       "    <tr>\n",
       "      <th>2010-01-04</th>\n",
       "      <td>1.238900</td>\n",
       "      <td>1.245900</td>\n",
       "      <td>1.2389</td>\n",
       "      <td>1.242000</td>\n",
       "      <td>1.242000</td>\n",
       "    </tr>\n",
       "    <tr>\n",
       "      <th>2010-01-05</th>\n",
       "      <td>1.241800</td>\n",
       "      <td>1.245700</td>\n",
       "      <td>1.2395</td>\n",
       "      <td>1.241800</td>\n",
       "      <td>1.241800</td>\n",
       "    </tr>\n",
       "    <tr>\n",
       "      <th>2010-01-06</th>\n",
       "      <td>1.241700</td>\n",
       "      <td>1.250000</td>\n",
       "      <td>1.2417</td>\n",
       "      <td>1.246100</td>\n",
       "      <td>1.246100</td>\n",
       "    </tr>\n",
       "    <tr>\n",
       "      <th>2010-01-07</th>\n",
       "      <td>1.245400</td>\n",
       "      <td>1.253200</td>\n",
       "      <td>1.2449</td>\n",
       "      <td>1.252200</td>\n",
       "      <td>1.252200</td>\n",
       "    </tr>\n",
       "    <tr>\n",
       "      <th>...</th>\n",
       "      <td>...</td>\n",
       "      <td>...</td>\n",
       "      <td>...</td>\n",
       "      <td>...</td>\n",
       "      <td>...</td>\n",
       "    </tr>\n",
       "    <tr>\n",
       "      <th>2023-06-13</th>\n",
       "      <td>1.101790</td>\n",
       "      <td>1.104660</td>\n",
       "      <td>1.1009</td>\n",
       "      <td>1.101790</td>\n",
       "      <td>1.101790</td>\n",
       "    </tr>\n",
       "    <tr>\n",
       "      <th>2023-06-14</th>\n",
       "      <td>1.098920</td>\n",
       "      <td>1.101410</td>\n",
       "      <td>1.0948</td>\n",
       "      <td>1.098920</td>\n",
       "      <td>1.098920</td>\n",
       "    </tr>\n",
       "    <tr>\n",
       "      <th>2023-06-15</th>\n",
       "      <td>1.096770</td>\n",
       "      <td>1.103841</td>\n",
       "      <td>1.0950</td>\n",
       "      <td>1.096770</td>\n",
       "      <td>1.096770</td>\n",
       "    </tr>\n",
       "    <tr>\n",
       "      <th>2023-06-16</th>\n",
       "      <td>1.103336</td>\n",
       "      <td>1.104990</td>\n",
       "      <td>1.1013</td>\n",
       "      <td>1.103336</td>\n",
       "      <td>1.103336</td>\n",
       "    </tr>\n",
       "    <tr>\n",
       "      <th>2023-06-19</th>\n",
       "      <td>1.102600</td>\n",
       "      <td>1.105010</td>\n",
       "      <td>1.1003</td>\n",
       "      <td>1.102600</td>\n",
       "      <td>1.102600</td>\n",
       "    </tr>\n",
       "  </tbody>\n",
       "</table>\n",
       "<p>3510 rows × 5 columns</p>\n",
       "</div>"
      ],
      "text/plain": [
       "                Open      High     Low     Close  Adj Close\n",
       "Date                                                       \n",
       "2010-01-01  1.241700  1.241800  1.2349  1.236200   1.236200\n",
       "2010-01-04  1.238900  1.245900  1.2389  1.242000   1.242000\n",
       "2010-01-05  1.241800  1.245700  1.2395  1.241800   1.241800\n",
       "2010-01-06  1.241700  1.250000  1.2417  1.246100   1.246100\n",
       "2010-01-07  1.245400  1.253200  1.2449  1.252200   1.252200\n",
       "...              ...       ...     ...       ...        ...\n",
       "2023-06-13  1.101790  1.104660  1.1009  1.101790   1.101790\n",
       "2023-06-14  1.098920  1.101410  1.0948  1.098920   1.098920\n",
       "2023-06-15  1.096770  1.103841  1.0950  1.096770   1.096770\n",
       "2023-06-16  1.103336  1.104990  1.1013  1.103336   1.103336\n",
       "2023-06-19  1.102600  1.105010  1.1003  1.102600   1.102600\n",
       "\n",
       "[3510 rows x 5 columns]"
      ]
     },
     "execution_count": 31,
     "metadata": {},
     "output_type": "execute_result"
    }
   ],
   "source": [
    "del data[\"Volume\"]\n",
    "data"
   ]
  },
  {
   "cell_type": "code",
   "execution_count": 32,
   "id": "e3bb5202",
   "metadata": {},
   "outputs": [
    {
     "data": {
      "text/html": [
       "<div>\n",
       "<style scoped>\n",
       "    .dataframe tbody tr th:only-of-type {\n",
       "        vertical-align: middle;\n",
       "    }\n",
       "\n",
       "    .dataframe tbody tr th {\n",
       "        vertical-align: top;\n",
       "    }\n",
       "\n",
       "    .dataframe thead th {\n",
       "        text-align: right;\n",
       "    }\n",
       "</style>\n",
       "<table border=\"1\" class=\"dataframe\">\n",
       "  <thead>\n",
       "    <tr style=\"text-align: right;\">\n",
       "      <th></th>\n",
       "      <th>Open</th>\n",
       "      <th>High</th>\n",
       "      <th>Low</th>\n",
       "      <th>Close</th>\n",
       "      <th>Adj Close</th>\n",
       "      <th>Tomorrow</th>\n",
       "      <th>Target</th>\n",
       "    </tr>\n",
       "    <tr>\n",
       "      <th>Date</th>\n",
       "      <th></th>\n",
       "      <th></th>\n",
       "      <th></th>\n",
       "      <th></th>\n",
       "      <th></th>\n",
       "      <th></th>\n",
       "      <th></th>\n",
       "    </tr>\n",
       "  </thead>\n",
       "  <tbody>\n",
       "    <tr>\n",
       "      <th>2010-01-01</th>\n",
       "      <td>1.241700</td>\n",
       "      <td>1.241800</td>\n",
       "      <td>1.2349</td>\n",
       "      <td>1.236200</td>\n",
       "      <td>1.236200</td>\n",
       "      <td>1.242000</td>\n",
       "      <td>1</td>\n",
       "    </tr>\n",
       "    <tr>\n",
       "      <th>2010-01-04</th>\n",
       "      <td>1.238900</td>\n",
       "      <td>1.245900</td>\n",
       "      <td>1.2389</td>\n",
       "      <td>1.242000</td>\n",
       "      <td>1.242000</td>\n",
       "      <td>1.241800</td>\n",
       "      <td>0</td>\n",
       "    </tr>\n",
       "    <tr>\n",
       "      <th>2010-01-05</th>\n",
       "      <td>1.241800</td>\n",
       "      <td>1.245700</td>\n",
       "      <td>1.2395</td>\n",
       "      <td>1.241800</td>\n",
       "      <td>1.241800</td>\n",
       "      <td>1.246100</td>\n",
       "      <td>1</td>\n",
       "    </tr>\n",
       "    <tr>\n",
       "      <th>2010-01-06</th>\n",
       "      <td>1.241700</td>\n",
       "      <td>1.250000</td>\n",
       "      <td>1.2417</td>\n",
       "      <td>1.246100</td>\n",
       "      <td>1.246100</td>\n",
       "      <td>1.252200</td>\n",
       "      <td>1</td>\n",
       "    </tr>\n",
       "    <tr>\n",
       "      <th>2010-01-07</th>\n",
       "      <td>1.245400</td>\n",
       "      <td>1.253200</td>\n",
       "      <td>1.2449</td>\n",
       "      <td>1.252200</td>\n",
       "      <td>1.252200</td>\n",
       "      <td>1.254700</td>\n",
       "      <td>1</td>\n",
       "    </tr>\n",
       "    <tr>\n",
       "      <th>...</th>\n",
       "      <td>...</td>\n",
       "      <td>...</td>\n",
       "      <td>...</td>\n",
       "      <td>...</td>\n",
       "      <td>...</td>\n",
       "      <td>...</td>\n",
       "      <td>...</td>\n",
       "    </tr>\n",
       "    <tr>\n",
       "      <th>2023-06-13</th>\n",
       "      <td>1.101790</td>\n",
       "      <td>1.104660</td>\n",
       "      <td>1.1009</td>\n",
       "      <td>1.101790</td>\n",
       "      <td>1.101790</td>\n",
       "      <td>1.098920</td>\n",
       "      <td>0</td>\n",
       "    </tr>\n",
       "    <tr>\n",
       "      <th>2023-06-14</th>\n",
       "      <td>1.098920</td>\n",
       "      <td>1.101410</td>\n",
       "      <td>1.0948</td>\n",
       "      <td>1.098920</td>\n",
       "      <td>1.098920</td>\n",
       "      <td>1.096770</td>\n",
       "      <td>0</td>\n",
       "    </tr>\n",
       "    <tr>\n",
       "      <th>2023-06-15</th>\n",
       "      <td>1.096770</td>\n",
       "      <td>1.103841</td>\n",
       "      <td>1.0950</td>\n",
       "      <td>1.096770</td>\n",
       "      <td>1.096770</td>\n",
       "      <td>1.103336</td>\n",
       "      <td>1</td>\n",
       "    </tr>\n",
       "    <tr>\n",
       "      <th>2023-06-16</th>\n",
       "      <td>1.103336</td>\n",
       "      <td>1.104990</td>\n",
       "      <td>1.1013</td>\n",
       "      <td>1.103336</td>\n",
       "      <td>1.103336</td>\n",
       "      <td>1.102600</td>\n",
       "      <td>0</td>\n",
       "    </tr>\n",
       "    <tr>\n",
       "      <th>2023-06-19</th>\n",
       "      <td>1.102600</td>\n",
       "      <td>1.105010</td>\n",
       "      <td>1.1003</td>\n",
       "      <td>1.102600</td>\n",
       "      <td>1.102600</td>\n",
       "      <td>NaN</td>\n",
       "      <td>0</td>\n",
       "    </tr>\n",
       "  </tbody>\n",
       "</table>\n",
       "<p>3510 rows × 7 columns</p>\n",
       "</div>"
      ],
      "text/plain": [
       "                Open      High     Low     Close  Adj Close  Tomorrow  Target\n",
       "Date                                                                         \n",
       "2010-01-01  1.241700  1.241800  1.2349  1.236200   1.236200  1.242000       1\n",
       "2010-01-04  1.238900  1.245900  1.2389  1.242000   1.242000  1.241800       0\n",
       "2010-01-05  1.241800  1.245700  1.2395  1.241800   1.241800  1.246100       1\n",
       "2010-01-06  1.241700  1.250000  1.2417  1.246100   1.246100  1.252200       1\n",
       "2010-01-07  1.245400  1.253200  1.2449  1.252200   1.252200  1.254700       1\n",
       "...              ...       ...     ...       ...        ...       ...     ...\n",
       "2023-06-13  1.101790  1.104660  1.1009  1.101790   1.101790  1.098920       0\n",
       "2023-06-14  1.098920  1.101410  1.0948  1.098920   1.098920  1.096770       0\n",
       "2023-06-15  1.096770  1.103841  1.0950  1.096770   1.096770  1.103336       1\n",
       "2023-06-16  1.103336  1.104990  1.1013  1.103336   1.103336  1.102600       0\n",
       "2023-06-19  1.102600  1.105010  1.1003  1.102600   1.102600       NaN       0\n",
       "\n",
       "[3510 rows x 7 columns]"
      ]
     },
     "execution_count": 32,
     "metadata": {},
     "output_type": "execute_result"
    }
   ],
   "source": [
    "data[\"Tomorrow\"] = data[\"Close\"].shift(-1)\n",
    "data[\"Target\"] = (data[\"Tomorrow\"] > data[\"Close\"]).astype(int)\n",
    "data"
   ]
  },
  {
   "cell_type": "code",
   "execution_count": 33,
   "id": "6e87724a",
   "metadata": {},
   "outputs": [
    {
     "data": {
      "text/plain": [
       "(                Open      High     Low     Close  Adj Close  Tomorrow\n",
       " Date                                                                 \n",
       " 2010-01-01  1.241700  1.241800  1.2349  1.236200   1.236200  1.242000\n",
       " 2010-01-04  1.238900  1.245900  1.2389  1.242000   1.242000  1.241800\n",
       " 2010-01-05  1.241800  1.245700  1.2395  1.241800   1.241800  1.246100\n",
       " 2010-01-06  1.241700  1.250000  1.2417  1.246100   1.246100  1.252200\n",
       " 2010-01-07  1.245400  1.253200  1.2449  1.252200   1.252200  1.254700\n",
       " ...              ...       ...     ...       ...        ...       ...\n",
       " 2023-06-13  1.101790  1.104660  1.1009  1.101790   1.101790  1.098920\n",
       " 2023-06-14  1.098920  1.101410  1.0948  1.098920   1.098920  1.096770\n",
       " 2023-06-15  1.096770  1.103841  1.0950  1.096770   1.096770  1.103336\n",
       " 2023-06-16  1.103336  1.104990  1.1013  1.103336   1.103336  1.102600\n",
       " 2023-06-19  1.102600  1.105010  1.1003  1.102600   1.102600       NaN\n",
       " \n",
       " [3510 rows x 6 columns],\n",
       " Date\n",
       " 2010-01-01    1\n",
       " 2010-01-04    0\n",
       " 2010-01-05    1\n",
       " 2010-01-06    1\n",
       " 2010-01-07    1\n",
       "              ..\n",
       " 2023-06-13    0\n",
       " 2023-06-14    0\n",
       " 2023-06-15    1\n",
       " 2023-06-16    0\n",
       " 2023-06-19    0\n",
       " Name: Target, Length: 3510, dtype: int32)"
      ]
     },
     "execution_count": 33,
     "metadata": {},
     "output_type": "execute_result"
    }
   ],
   "source": [
    "X = data.drop('Target', axis=1)\n",
    "y = data['Target']\n",
    "\n",
    "X, y"
   ]
  },
  {
   "cell_type": "code",
   "execution_count": 34,
   "id": "e8557a8b",
   "metadata": {},
   "outputs": [
    {
     "data": {
      "text/html": [
       "<style>#sk-container-id-2 {color: black;}#sk-container-id-2 pre{padding: 0;}#sk-container-id-2 div.sk-toggleable {background-color: white;}#sk-container-id-2 label.sk-toggleable__label {cursor: pointer;display: block;width: 100%;margin-bottom: 0;padding: 0.3em;box-sizing: border-box;text-align: center;}#sk-container-id-2 label.sk-toggleable__label-arrow:before {content: \"▸\";float: left;margin-right: 0.25em;color: #696969;}#sk-container-id-2 label.sk-toggleable__label-arrow:hover:before {color: black;}#sk-container-id-2 div.sk-estimator:hover label.sk-toggleable__label-arrow:before {color: black;}#sk-container-id-2 div.sk-toggleable__content {max-height: 0;max-width: 0;overflow: hidden;text-align: left;background-color: #f0f8ff;}#sk-container-id-2 div.sk-toggleable__content pre {margin: 0.2em;color: black;border-radius: 0.25em;background-color: #f0f8ff;}#sk-container-id-2 input.sk-toggleable__control:checked~div.sk-toggleable__content {max-height: 200px;max-width: 100%;overflow: auto;}#sk-container-id-2 input.sk-toggleable__control:checked~label.sk-toggleable__label-arrow:before {content: \"▾\";}#sk-container-id-2 div.sk-estimator input.sk-toggleable__control:checked~label.sk-toggleable__label {background-color: #d4ebff;}#sk-container-id-2 div.sk-label input.sk-toggleable__control:checked~label.sk-toggleable__label {background-color: #d4ebff;}#sk-container-id-2 input.sk-hidden--visually {border: 0;clip: rect(1px 1px 1px 1px);clip: rect(1px, 1px, 1px, 1px);height: 1px;margin: -1px;overflow: hidden;padding: 0;position: absolute;width: 1px;}#sk-container-id-2 div.sk-estimator {font-family: monospace;background-color: #f0f8ff;border: 1px dotted black;border-radius: 0.25em;box-sizing: border-box;margin-bottom: 0.5em;}#sk-container-id-2 div.sk-estimator:hover {background-color: #d4ebff;}#sk-container-id-2 div.sk-parallel-item::after {content: \"\";width: 100%;border-bottom: 1px solid gray;flex-grow: 1;}#sk-container-id-2 div.sk-label:hover label.sk-toggleable__label {background-color: #d4ebff;}#sk-container-id-2 div.sk-serial::before {content: \"\";position: absolute;border-left: 1px solid gray;box-sizing: border-box;top: 0;bottom: 0;left: 50%;z-index: 0;}#sk-container-id-2 div.sk-serial {display: flex;flex-direction: column;align-items: center;background-color: white;padding-right: 0.2em;padding-left: 0.2em;position: relative;}#sk-container-id-2 div.sk-item {position: relative;z-index: 1;}#sk-container-id-2 div.sk-parallel {display: flex;align-items: stretch;justify-content: center;background-color: white;position: relative;}#sk-container-id-2 div.sk-item::before, #sk-container-id-2 div.sk-parallel-item::before {content: \"\";position: absolute;border-left: 1px solid gray;box-sizing: border-box;top: 0;bottom: 0;left: 50%;z-index: -1;}#sk-container-id-2 div.sk-parallel-item {display: flex;flex-direction: column;z-index: 1;position: relative;background-color: white;}#sk-container-id-2 div.sk-parallel-item:first-child::after {align-self: flex-end;width: 50%;}#sk-container-id-2 div.sk-parallel-item:last-child::after {align-self: flex-start;width: 50%;}#sk-container-id-2 div.sk-parallel-item:only-child::after {width: 0;}#sk-container-id-2 div.sk-dashed-wrapped {border: 1px dashed gray;margin: 0 0.4em 0.5em 0.4em;box-sizing: border-box;padding-bottom: 0.4em;background-color: white;}#sk-container-id-2 div.sk-label label {font-family: monospace;font-weight: bold;display: inline-block;line-height: 1.2em;}#sk-container-id-2 div.sk-label-container {text-align: center;}#sk-container-id-2 div.sk-container {/* jupyter's `normalize.less` sets `[hidden] { display: none; }` but bootstrap.min.css set `[hidden] { display: none !important; }` so we also need the `!important` here to be able to override the default hidden behavior on the sphinx rendered scikit-learn.org. See: https://github.com/scikit-learn/scikit-learn/issues/21755 */display: inline-block !important;position: relative;}#sk-container-id-2 div.sk-text-repr-fallback {display: none;}</style><div id=\"sk-container-id-2\" class=\"sk-top-container\"><div class=\"sk-text-repr-fallback\"><pre>RandomForestClassifier(min_samples_split=100, n_estimators=200, random_state=1)</pre><b>In a Jupyter environment, please rerun this cell to show the HTML representation or trust the notebook. <br />On GitHub, the HTML representation is unable to render, please try loading this page with nbviewer.org.</b></div><div class=\"sk-container\" hidden><div class=\"sk-item\"><div class=\"sk-estimator sk-toggleable\"><input class=\"sk-toggleable__control sk-hidden--visually\" id=\"sk-estimator-id-2\" type=\"checkbox\" checked><label for=\"sk-estimator-id-2\" class=\"sk-toggleable__label sk-toggleable__label-arrow\">RandomForestClassifier</label><div class=\"sk-toggleable__content\"><pre>RandomForestClassifier(min_samples_split=100, n_estimators=200, random_state=1)</pre></div></div></div></div></div>"
      ],
      "text/plain": [
       "RandomForestClassifier(min_samples_split=100, n_estimators=200, random_state=1)"
      ]
     },
     "execution_count": 34,
     "metadata": {},
     "output_type": "execute_result"
    }
   ],
   "source": [
    "model = RandomForestClassifier(n_estimators=200, min_samples_split=100, random_state=1)\n",
    "\n",
    "train = data.iloc[:-100]\n",
    "test = data.iloc[-100:]\n",
    "\n",
    "predictors = [\"Open\",\"High\",\"Low\",\"Close\"]\n",
    "model.fit(train[predictors], train[\"Target\"])"
   ]
  },
  {
   "cell_type": "code",
   "execution_count": 35,
   "id": "5e770a1c",
   "metadata": {},
   "outputs": [
    {
     "data": {
      "text/plain": [
       "0.8125"
      ]
     },
     "execution_count": 35,
     "metadata": {},
     "output_type": "execute_result"
    }
   ],
   "source": [
    "from sklearn.metrics import precision_score\n",
    "\n",
    "preds = model.predict(test[predictors])\n",
    "preds = pd.Series(preds, index=test.index)\n",
    "precision_score(test[\"Target\"], preds)"
   ]
  },
  {
   "cell_type": "code",
   "execution_count": 36,
   "id": "ab3c9623",
   "metadata": {},
   "outputs": [
    {
     "data": {
      "text/plain": [
       "<Axes: xlabel='Date'>"
      ]
     },
     "execution_count": 36,
     "metadata": {},
     "output_type": "execute_result"
    },
    {
     "data": {
      "image/png": "[encoded data removed]",
      "text/plain": [
       "<Figure size 640x480 with 1 Axes>"
      ]
     },
     "metadata": {},
     "output_type": "display_data"
    }
   ],
   "source": [
    "combined = pd.concat([test[\"Target\"], preds], axis=1)\n",
    "combined.plot()"
   ]
  },
  {
   "cell_type": "code",
   "execution_count": 37,
   "id": "c9125cde",
   "metadata": {},
   "outputs": [
    {
     "data": {
      "text/html": [
       "<div>\n",
       "<style scoped>\n",
       "    .dataframe tbody tr th:only-of-type {\n",
       "        vertical-align: middle;\n",
       "    }\n",
       "\n",
       "    .dataframe tbody tr th {\n",
       "        vertical-align: top;\n",
       "    }\n",
       "\n",
       "    .dataframe thead th {\n",
       "        text-align: right;\n",
       "    }\n",
       "</style>\n",
       "<table border=\"1\" class=\"dataframe\">\n",
       "  <thead>\n",
       "    <tr style=\"text-align: right;\">\n",
       "      <th></th>\n",
       "      <th>Target</th>\n",
       "      <th>0</th>\n",
       "    </tr>\n",
       "    <tr>\n",
       "      <th>Date</th>\n",
       "      <th></th>\n",
       "      <th></th>\n",
       "    </tr>\n",
       "  </thead>\n",
       "  <tbody>\n",
       "    <tr>\n",
       "      <th>2023-01-31</th>\n",
       "      <td>1</td>\n",
       "      <td>0</td>\n",
       "    </tr>\n",
       "    <tr>\n",
       "      <th>2023-02-01</th>\n",
       "      <td>1</td>\n",
       "      <td>1</td>\n",
       "    </tr>\n",
       "    <tr>\n",
       "      <th>2023-02-02</th>\n",
       "      <td>0</td>\n",
       "      <td>0</td>\n",
       "    </tr>\n",
       "    <tr>\n",
       "      <th>2023-02-03</th>\n",
       "      <td>1</td>\n",
       "      <td>0</td>\n",
       "    </tr>\n",
       "    <tr>\n",
       "      <th>2023-02-06</th>\n",
       "      <td>0</td>\n",
       "      <td>1</td>\n",
       "    </tr>\n",
       "    <tr>\n",
       "      <th>...</th>\n",
       "      <td>...</td>\n",
       "      <td>...</td>\n",
       "    </tr>\n",
       "    <tr>\n",
       "      <th>2023-06-13</th>\n",
       "      <td>0</td>\n",
       "      <td>1</td>\n",
       "    </tr>\n",
       "    <tr>\n",
       "      <th>2023-06-14</th>\n",
       "      <td>0</td>\n",
       "      <td>1</td>\n",
       "    </tr>\n",
       "    <tr>\n",
       "      <th>2023-06-15</th>\n",
       "      <td>1</td>\n",
       "      <td>1</td>\n",
       "    </tr>\n",
       "    <tr>\n",
       "      <th>2023-06-16</th>\n",
       "      <td>0</td>\n",
       "      <td>1</td>\n",
       "    </tr>\n",
       "    <tr>\n",
       "      <th>2023-06-19</th>\n",
       "      <td>0</td>\n",
       "      <td>0</td>\n",
       "    </tr>\n",
       "  </tbody>\n",
       "</table>\n",
       "<p>100 rows × 2 columns</p>\n",
       "</div>"
      ],
      "text/plain": [
       "            Target  0\n",
       "Date                 \n",
       "2023-01-31       1  0\n",
       "2023-02-01       1  1\n",
       "2023-02-02       0  0\n",
       "2023-02-03       1  0\n",
       "2023-02-06       0  1\n",
       "...            ... ..\n",
       "2023-06-13       0  1\n",
       "2023-06-14       0  1\n",
       "2023-06-15       1  1\n",
       "2023-06-16       0  1\n",
       "2023-06-19       0  0\n",
       "\n",
       "[100 rows x 2 columns]"
      ]
     },
     "execution_count": 37,
     "metadata": {},
     "output_type": "execute_result"
    }
   ],
   "source": [
    "combined"
   ]
  },
  {
   "cell_type": "code",
   "execution_count": 38,
   "id": "9bae5827",
   "metadata": {},
   "outputs": [],
   "source": [
    "def predict(train, test, predictors, model):\n",
    "    model.fit(train[predictors], train[\"Target\"])\n",
    "    preds = model.predict(test[predictors])\n",
    "    preds = pd.Series(preds, index=test.index, name=\"Predictions\")\n",
    "    combined = pd.concat([test[\"Target\"], preds], axis=1)\n",
    "    return combined"
   ]
  },
  {
   "cell_type": "code",
   "execution_count": 39,
   "id": "6cbc9ab5",
   "metadata": {},
   "outputs": [],
   "source": [
    "def backtest(data, model, predictors, start=300, step=150):\n",
    "    all_predictions = []\n",
    "\n",
    "    for i in range(start, data.shape[0], step):\n",
    "        train = data.iloc[0:i].copy()\n",
    "        test = data.iloc[i:(i+step)].copy()\n",
    "        predictions = predict(train, test, predictors, model)\n",
    "        all_predictions.append(predictions)\n",
    "    \n",
    "    return pd.concat(all_predictions)"
   ]
  },
  {
   "cell_type": "code",
   "execution_count": 40,
   "id": "b74e7915",
   "metadata": {},
   "outputs": [],
   "source": [
    "predictions = backtest(data, model, predictors)"
   ]
  },
  {
   "cell_type": "code",
   "execution_count": 41,
   "id": "ac707245",
   "metadata": {},
   "outputs": [
    {
     "data": {
      "text/plain": [
       "Predictions\n",
       "0    1895\n",
       "1    1315\n",
       "Name: count, dtype: int64"
      ]
     },
     "execution_count": 41,
     "metadata": {},
     "output_type": "execute_result"
    }
   ],
   "source": [
    "predictions[\"Predictions\"].value_counts()"
   ]
  },
  {
   "cell_type": "code",
   "execution_count": 42,
   "id": "1973fe69",
   "metadata": {},
   "outputs": [
    {
     "data": {
      "text/plain": [
       "0.6448669201520912"
      ]
     },
     "execution_count": 42,
     "metadata": {},
     "output_type": "execute_result"
    }
   ],
   "source": [
    "precision_score(predictions[\"Target\"], predictions[\"Predictions\"])"
   ]
  },
  {
   "cell_type": "code",
   "execution_count": 43,
   "id": "c8150c11",
   "metadata": {},
   "outputs": [
    {
     "data": {
      "text/plain": [
       "Target\n",
       "0    0.520249\n",
       "1    0.479751\n",
       "Name: count, dtype: float64"
      ]
     },
     "execution_count": 43,
     "metadata": {},
     "output_type": "execute_result"
    }
   ],
   "source": [
    "predictions[\"Target\"].value_counts() / predictions.shape[0]"
   ]
  },
  {
   "cell_type": "code",
   "execution_count": 44,
   "id": "fabf40dc",
   "metadata": {},
   "outputs": [
    {
     "data": {
      "text/plain": [
       "<Axes: xlabel='Date'>"
      ]
     },
     "execution_count": 44,
     "metadata": {},
     "output_type": "execute_result"
    },
    {
     "data": {
      "image/png": "[encoded data removed]",
      "text/plain": [
       "<Figure size 640x480 with 1 Axes>"
      ]
     },
     "metadata": {},
     "output_type": "display_data"
    }
   ],
   "source": [
    "combined2 = pd.concat([predictions[\"Target\"], predictions[\"Predictions\"]], axis=1)\n",
    "combined2.plot()"
   ]
  },
  {
   "cell_type": "code",
   "execution_count": 45,
   "id": "70139999",
   "metadata": {},
   "outputs": [
    {
     "data": {
      "text/html": [
       "<div>\n",
       "<style scoped>\n",
       "    .dataframe tbody tr th:only-of-type {\n",
       "        vertical-align: middle;\n",
       "    }\n",
       "\n",
       "    .dataframe tbody tr th {\n",
       "        vertical-align: top;\n",
       "    }\n",
       "\n",
       "    .dataframe thead th {\n",
       "        text-align: right;\n",
       "    }\n",
       "</style>\n",
       "<table border=\"1\" class=\"dataframe\">\n",
       "  <thead>\n",
       "    <tr style=\"text-align: right;\">\n",
       "      <th></th>\n",
       "      <th>Target</th>\n",
       "      <th>Predictions</th>\n",
       "    </tr>\n",
       "    <tr>\n",
       "      <th>Date</th>\n",
       "      <th></th>\n",
       "      <th></th>\n",
       "    </tr>\n",
       "  </thead>\n",
       "  <tbody>\n",
       "    <tr>\n",
       "      <th>2011-02-25</th>\n",
       "      <td>1</td>\n",
       "      <td>0</td>\n",
       "    </tr>\n",
       "    <tr>\n",
       "      <th>2011-02-28</th>\n",
       "      <td>1</td>\n",
       "      <td>0</td>\n",
       "    </tr>\n",
       "    <tr>\n",
       "      <th>2011-03-01</th>\n",
       "      <td>1</td>\n",
       "      <td>0</td>\n",
       "    </tr>\n",
       "    <tr>\n",
       "      <th>2011-03-02</th>\n",
       "      <td>1</td>\n",
       "      <td>0</td>\n",
       "    </tr>\n",
       "    <tr>\n",
       "      <th>2011-03-03</th>\n",
       "      <td>1</td>\n",
       "      <td>0</td>\n",
       "    </tr>\n",
       "    <tr>\n",
       "      <th>...</th>\n",
       "      <td>...</td>\n",
       "      <td>...</td>\n",
       "    </tr>\n",
       "    <tr>\n",
       "      <th>2023-06-13</th>\n",
       "      <td>0</td>\n",
       "      <td>1</td>\n",
       "    </tr>\n",
       "    <tr>\n",
       "      <th>2023-06-14</th>\n",
       "      <td>0</td>\n",
       "      <td>1</td>\n",
       "    </tr>\n",
       "    <tr>\n",
       "      <th>2023-06-15</th>\n",
       "      <td>1</td>\n",
       "      <td>1</td>\n",
       "    </tr>\n",
       "    <tr>\n",
       "      <th>2023-06-16</th>\n",
       "      <td>0</td>\n",
       "      <td>1</td>\n",
       "    </tr>\n",
       "    <tr>\n",
       "      <th>2023-06-19</th>\n",
       "      <td>0</td>\n",
       "      <td>0</td>\n",
       "    </tr>\n",
       "  </tbody>\n",
       "</table>\n",
       "<p>3210 rows × 2 columns</p>\n",
       "</div>"
      ],
      "text/plain": [
       "            Target  Predictions\n",
       "Date                           \n",
       "2011-02-25       1            0\n",
       "2011-02-28       1            0\n",
       "2011-03-01       1            0\n",
       "2011-03-02       1            0\n",
       "2011-03-03       1            0\n",
       "...            ...          ...\n",
       "2023-06-13       0            1\n",
       "2023-06-14       0            1\n",
       "2023-06-15       1            1\n",
       "2023-06-16       0            1\n",
       "2023-06-19       0            0\n",
       "\n",
       "[3210 rows x 2 columns]"
      ]
     },
     "execution_count": 45,
     "metadata": {},
     "output_type": "execute_result"
    }
   ],
   "source": [
    "predictions"
   ]
  },
  {
   "cell_type": "code",
   "execution_count": 46,
   "id": "98492c57",
   "metadata": {},
   "outputs": [
    {
     "name": "stdout",
     "output_type": "stream",
     "text": [
      "[1]\n",
      "Prediksi Naik\n"
     ]
    },
    {
     "name": "stderr",
     "output_type": "stream",
     "text": [
      "c:\\Users\\uSeR\\AppData\\Local\\Programs\\Python\\Python311\\Lib\\site-packages\\sklearn\\base.py:464: UserWarning: X does not have valid feature names, but RandomForestClassifier was fitted with feature names\n",
      "  warnings.warn(\n"
     ]
    }
   ],
   "source": [
    "#features = [Open,High,Low,Close]\n",
    "import numpy as np\n",
    "\n",
    "new_df = np.array([[1.0990, 1.1001, 1.0981, 1.0990]])\n",
    "new_predictions = model.predict(new_df)\n",
    "print(new_predictions)\n",
    "\n",
    "if(new_predictions[0] ==0 ):\n",
    "    print('Prediksi Turun')\n",
    "else :\n",
    "    print('Prediksi Naik')"
   ]
  },
  {
   "cell_type": "code",
   "execution_count": 47,
   "id": "bbcdb89c",
   "metadata": {},
   "outputs": [],
   "source": [
    "import pickle"
   ]
  },
  {
   "cell_type": "code",
   "execution_count": 48,
   "id": "69890534",
   "metadata": {},
   "outputs": [],
   "source": [
    "filename = 'audnzdmodel.sav'\n",
    "pickle.dump(model, open(filename,'wb'))"
   ]
  }
 ],
 "metadata": {
  "kernelspec": {
   "display_name": "Python 3 (ipykernel)",
   "language": "python",
   "name": "python3"
  },
  "language_info": {
   "codemirror_mode": {
    "name": "ipython",
    "version": 3
   },
   "file_extension": ".py",
   "mimetype": "text/x-python",
   "name": "python",
   "nbconvert_exporter": "python",
   "pygments_lexer": "ipython3",
   "version": "3.11.4"
  }
 },
 "nbformat": 4,
 "nbformat_minor": 5
}
